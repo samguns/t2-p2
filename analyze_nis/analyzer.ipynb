{
 "cells": [
  {
   "cell_type": "code",
   "execution_count": null,
   "metadata": {
    "scrolled": false
   },
   "outputs": [],
   "source": [
    "import csv\n",
    "import numpy as np\n",
    "import matplotlib.pyplot as plt\n",
    "%matplotlib inline\n",
    "\n",
    "radar_nis_array = []\n",
    "laser_nis_array = []\n",
    "\n",
    "with open('./nis.csv') as csvfile:\n",
    "    reader = csv.reader(csvfile)\n",
    "    for line in reader:\n",
    "        radar_nis_array.append(line[0])\n",
    "        laser_nis_array.append(line[1])\n",
    "        \n",
    "radar_nis = np.array(radar_nis_array, dtype=float)\n",
    "laser_nis = np.array(radar_nis_array, dtype=float)\n",
    "\n",
    "radar_above_95_thresh = np.where(radar_nis > 7.82)\n",
    "laser_above_95_thresh = np.where(laser_nis > 5.99)\n",
    "\n",
    "radar_consistency = "
   ]
  },
  {
   "cell_type": "code",
   "execution_count": null,
   "metadata": {},
   "outputs": [],
   "source": []
  }
 ],
 "metadata": {
  "kernelspec": {
   "display_name": "Python 3",
   "language": "python",
   "name": "python3"
  },
  "language_info": {
   "codemirror_mode": {
    "name": "ipython",
    "version": 3
   },
   "file_extension": ".py",
   "mimetype": "text/x-python",
   "name": "python",
   "nbconvert_exporter": "python",
   "pygments_lexer": "ipython3",
   "version": "3.5.2"
  },
  "widgets": {
   "state": {},
   "version": "1.1.2"
  }
 },
 "nbformat": 4,
 "nbformat_minor": 2
}
